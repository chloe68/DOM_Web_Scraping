{
 "cells": [
  {
   "cell_type": "code",
   "execution_count": 1,
   "id": "a0323b40",
   "metadata": {},
   "outputs": [],
   "source": [
    "import pandas as pd \n",
    "import numpy as np  \n",
    "import re\n",
    "import random\n",
    "import json \n",
    "\n",
    "from selenium import webdriver\n",
    "from selenium.webdriver.chrome.options import Options\n",
    "from selenium.webdriver.chrome.service import Service\n",
    "from selenium.webdriver.common.by import By\n",
    "from selenium.webdriver.support.ui import WebDriverWait\n",
    "from selenium.webdriver.support import expected_conditions as EC\n",
    "from webdriver_manager.chrome import ChromeDriverManager\n",
    "\n",
    "from selenium import webdriver\n",
    "from selenium.webdriver.common.keys import Keys\n",
    "from selenium.webdriver.common.by import By\n",
    "\n",
    "from bs4 import BeautifulSoup\n",
    "import time\n",
    "\n",
    "path = 'C:/Users/GMEU0170/OneDrive - Hyundai Motor Europe/GME_CD/Documents/2.__Code/_.py/web_scraping/selenium/'"
   ]
  },
  {
   "cell_type": "code",
   "execution_count": 2,
   "id": "d1521557",
   "metadata": {},
   "outputs": [],
   "source": [
    "# Set up Chrome options (headless mode is optional)\n",
    "chrome_options = Options()\n",
    "chrome_options.add_argument(\"--headless\")\n",
    "chrome_options.add_experimental_option(\n",
    "    \"prefs\", {\"profile.managed_default_content_settings.images\": 2}\n",
    ")"
   ]
  },
  {
   "cell_type": "code",
   "execution_count": 3,
   "id": "a3b3a2f6",
   "metadata": {},
   "outputs": [],
   "source": [
    "# Use webdriver-manager to install and manage ChromeDriver\n",
    "service = Service(ChromeDriverManager().install())"
   ]
  },
  {
   "cell_type": "code",
   "execution_count": 4,
   "metadata": {},
   "outputs": [],
   "source": [
    "# User-Agent list for rotation\n",
    "user_agents = [\n",
    "    \"Mozilla/5.0 (Windows NT 10.0; Win64; x64) AppleWebKit/537.36 (KHTML, like Gecko) Chrome/92.0.4515.159 Safari/537.36\",\n",
    "    \"Mozilla/5.0 (Macintosh; Intel Mac OS X 10_15_7) AppleWebKit/605.1.15 (KHTML, like Gecko) Version/15.1 Safari/605.1.15\",\n",
    "    # Add more user agents as needed\n",
    "]"
   ]
  },
  {
   "cell_type": "code",
   "execution_count": 5,
   "metadata": {},
   "outputs": [],
   "source": [
    "def get_driver(service):\n",
    "    chrome_options = webdriver.ChromeOptions()\n",
    "    chrome_options.add_argument(\"--headless\")\n",
    "    chrome_options.add_argument(\"--disable-gpu\")\n",
    "    chrome_options.add_argument(\"--blink-settings=imagesEnabled=false\")\n",
    "    ua = random.choice(user_agents)\n",
    "    chrome_options.add_argument(f\"user-agent={ua}\")\n",
    "    chrome_options.add_experimental_option(\"excludeSwitches\", [\"enable-automation\"])\n",
    "    chrome_options.add_experimental_option(\"useAutomationExtension\", False)\n",
    "    # Explicitly set the page load strategy to \"normal\"\n",
    "    chrome_options.page_load_strategy = \"normal\"\n",
    "    \n",
    "    driver = webdriver.Chrome(service=service, options=chrome_options)\n",
    "    driver.execute_script(\"Object.defineProperty(navigator, 'webdriver', {get: () => undefined})\")\n",
    "    driver.implicitly_wait(10)\n",
    "    return driver"
   ]
  },
  {
   "cell_type": "code",
   "execution_count": 6,
   "metadata": {},
   "outputs": [],
   "source": [
    "driver = get_driver(service)"
   ]
  },
  {
   "cell_type": "markdown",
   "id": "25cd9111",
   "metadata": {},
   "source": [
    "### Testing"
   ]
  },
  {
   "cell_type": "code",
   "execution_count": 7,
   "metadata": {},
   "outputs": [],
   "source": [
    "url = \"https://configure.bmw.de/de_DE/configure/U10/51GM/FBLAT,P0C68,S01EE,S0230,S02PA,S02VB,S02VD,S0302,S0428,S0478,S0494,S04GN,S04T2,S04U9,S04V1,S0548,S05AV,S05DM,S0654,S06AE,S06AF,S06PA,S0760,S0801,S0851,S0879,S08R3,S08R9,S08TF/SE000001\""
   ]
  },
  {
   "cell_type": "code",
   "execution_count": 8,
   "metadata": {},
   "outputs": [],
   "source": [
    "driver.get(url)\n",
    "time.sleep(10)"
   ]
  },
  {
   "cell_type": "code",
   "execution_count": 9,
   "id": "33267a12",
   "metadata": {},
   "outputs": [],
   "source": [
    "wait = WebDriverWait(driver, 15)\n",
    "shadow_host = wait.until(EC.presence_of_element_located((By.CSS_SELECTOR, \"con-app\")))"
   ]
  },
  {
   "cell_type": "code",
   "execution_count": 10,
   "metadata": {},
   "outputs": [],
   "source": [
    "shadow_root = driver.execute_script(\"return arguments[0].shadowRoot\", shadow_host)"
   ]
  },
  {
   "cell_type": "code",
   "execution_count": 11,
   "metadata": {},
   "outputs": [],
   "source": [
    "def expand_shadow_element(driver, element):\n",
    "    return driver.execute_script(\"return arguments[0].shadowRoot\", element)\n",
    "\n",
    "# Example usage:\n",
    "con_app = driver.find_element(By.CSS_SELECTOR, \"con-app\")\n",
    "shadow1 = expand_shadow_element(driver, con_app)\n",
    "\n",
    "router_slot = shadow1.find_element(By.CSS_SELECTOR, \"router-slot\")\n",
    "shadow2 = expand_shadow_element(driver, router_slot)"
   ]
  },
  {
   "cell_type": "code",
   "execution_count": 12,
   "id": "8d3be2e5",
   "metadata": {},
   "outputs": [
    {
     "name": "stdout",
     "output_type": "stream",
     "text": [
      "con-resource-provider-page\n",
      "Found con-resource-provider-page\n"
     ]
    }
   ],
   "source": [
    "slot = shadow2.find_element(By.CSS_SELECTOR, \"slot\")\n",
    "slot\n",
    "\n",
    "assigned_nodes = driver.execute_script(\"\"\"\n",
    "    let slot = arguments[0];\n",
    "    return slot.assignedNodes();\n",
    "\"\"\", slot)\n",
    "\n",
    "# Print the assigned nodes to verify we have the correct elements\n",
    "for node in assigned_nodes:\n",
    "    print(node.tag_name)\n",
    "    \n",
    "con_resource_provider_page = None\n",
    "for node in assigned_nodes:\n",
    "    if node.tag_name == \"con-resource-provider-page\":\n",
    "        con_resource_provider_page = node\n",
    "        break\n",
    "    \n",
    "if con_resource_provider_page:\n",
    "    print(\"Found con-resource-provider-page\")\n",
    "    # You can perform further actions with con_resource_provider_page\n",
    "else:\n",
    "    print(\"con-resource-provider-page not found\")"
   ]
  },
  {
   "cell_type": "code",
   "execution_count": 13,
   "metadata": {},
   "outputs": [
    {
     "name": "stdout",
     "output_type": "stream",
     "text": [
      "con-configure\n"
     ]
    }
   ],
   "source": [
    "# Get all the children of the con_resource_provider_page element\n",
    "children = con_resource_provider_page.find_elements(By.XPATH, \"./*\")\n",
    "\n",
    "# Print the tag names of the children\n",
    "for child in children:\n",
    "    print(child.tag_name)"
   ]
  },
  {
   "cell_type": "code",
   "execution_count": 14,
   "id": "39d6cac0",
   "metadata": {},
   "outputs": [],
   "source": [
    "# Find the 'con-configure' element inside 'con-resource-provider-page'\n",
    "con_configure = con_resource_provider_page.find_element(By.CSS_SELECTOR, \"con-configure\")\n",
    "\n",
    "con_configure_shadow_root = expand_shadow_element(driver, con_configure)"
   ]
  },
  {
   "cell_type": "code",
   "execution_count": 18,
   "id": "d2e34fd2",
   "metadata": {},
   "outputs": [
    {
     "name": "stdout",
     "output_type": "stream",
     "text": [
      "COSY-DYNAMIC-NAMED-IMAGES\n",
      "COSY-DYNAMIC-NAMED-IMAGES\n",
      "COSY-DYNAMIC-NAMED-IMAGES\n",
      "DIV\n",
      "CON-SALES-BAR\n"
     ]
    }
   ],
   "source": [
    "children_under_shadow = driver.execute_script(\"\"\"\n",
    "    const conConfigure = arguments[0];\n",
    "    const shadowRoot = conConfigure.shadowRoot;\n",
    "    return Array.from(shadowRoot.children).map(child => child.tagName);\n",
    "\"\"\", con_configure)\n",
    "\n",
    "for child in children_under_shadow:\n",
    "    print(child)"
   ]
  },
  {
   "cell_type": "code",
   "execution_count": 40,
   "id": "b041229c",
   "metadata": {},
   "outputs": [
    {
     "name": "stdout",
     "output_type": "stream",
     "text": [
      "CON-LINK-PROXY\n",
      "DIV\n"
     ]
    }
   ],
   "source": [
    "con_sales_bar = driver.execute_script(\"\"\"\n",
    "    const conConfigure = arguments[0];\n",
    "    return conConfigure.shadowRoot.querySelector(\"con-sales-bar\");\n",
    "\"\"\", con_configure)\n",
    "\n",
    "children_under_con_sales_bar = driver.execute_script(\"\"\"\n",
    "    const conConfigure = arguments[0];\n",
    "    const shadowRoot = conConfigure.shadowRoot;\n",
    "    return Array.from(shadowRoot.children).map(child => child.tagName);\n",
    "\"\"\", con_sales_bar)\n",
    "\n",
    "for child in children_under_con_sales_bar:\n",
    "    print(child)"
   ]
  },
  {
   "cell_type": "code",
   "execution_count": 50,
   "id": "a305a828",
   "metadata": {},
   "outputs": [
    {
     "data": {
      "text/plain": [
       "'<div class=\"compact-sales-bar-wrapper\"><div class=\"compact-info-elements-wrapper\"><div class=\"price-wrapper\"><!--?lit$1165044204$--><div class=\"total-price  price-border \"><!--?lit$1165044204$--><!--?lit$1165044204$--><a data-name=\"price\" class=\"link compact\" role=\"button\" title=\"Preisübersicht\"><span class=\"price\"><!--?lit$1165044204$-->53.250&nbsp;€</span></a> <!--?lit$1165044204$--><!--?--></div> <span><!--?lit$1165044204$--></span></div><!--?lit$1165044204$--><button class=\"button link\" data-key=\"SALESBAR_OVERLAY\" aria-label=\"Mehr Information\"><span><!--?lit$1165044204$-->Mehr Information</span> <i class=\"button-icon con-icon icon-external-link\" aria-hidden=\"true\"></i></button></div><div class=\"compact-ctas-wrapper\"><!--?lit$1165044204$--><!--?lit$1165044204$--><!----><button class=\"button button-primary button-square\" data-modal-trigger=\"\" data-key=\"SAVE\" tooltip=\"\" title=\"Konfiguration speichern\"><!--?lit$1165044204$--><i aria-hidden=\"true\" class=\"button-icon con-icon icon-save\"></i></button><!----> <button class=\"button button-tertiary button-square   \" data-key=\"SALESBAR_OVERLAY\" aria-label=\"\"><i aria-hidden=\"true\" class=\"button-icon con-icon icon-chevron-up\"></i></button></div></div>'"
      ]
     },
     "execution_count": 50,
     "metadata": {},
     "output_type": "execute_result"
    }
   ],
   "source": [
    "con_sales_bar_shadow_root = driver.execute_script(\"\"\"\n",
    "    return arguments[0].shadowRoot;\n",
    "\"\"\", con_sales_bar)\n",
    "\n",
    "# Step 2: Get the <div> child inside the shadow root\n",
    "div_inside_con_sales_bar = driver.execute_script(\"\"\"\n",
    "    return arguments[0].shadowRoot.querySelector(\"div\");\n",
    "\"\"\", con_sales_bar)\n",
    "\n",
    "div_inside_con_sales_bar.get_attribute(\"outerHTML\")"
   ]
  },
  {
   "cell_type": "code",
   "execution_count": null,
   "metadata": {},
   "outputs": [
    {
     "data": {
      "text/plain": [
       "<selenium.webdriver.remote.webelement.WebElement (session=\"b752ee1d62b23777e7baf1adde8597c5\", element=\"f.7AE0CFE899815E699D4B93EC1A5C5679.d.1B357EA3F59E35611FBB0118FD0A7524.e.25\")>"
      ]
     },
     "execution_count": 43,
     "metadata": {},
     "output_type": "execute_result"
    }
   ],
   "source": [
    "# <div class=\"sales-bar\"?\n",
    "#     <div class=\"model-name-section\">\n",
    "#     <div class=\"sales-footer-sections\">\n",
    "#         <div class=\"sales-footer-sections-top\">\n",
    "#             <div class=\"sales-footer-prices-section\">\n",
    "#                 <div tabindex=\"0\" class=\"finance-container  \">\n",
    "#                     <!--?lit$898154033#-->\n",
    "#                     <sf-cf-integration-widget app='CONX' type=\"variant-installment\" page=\"Configurator\">\n",
    "#                         #shadow-root (open)"
   ]
  },
  {
   "cell_type": "code",
   "execution_count": 66,
   "id": "38bef19d",
   "metadata": {},
   "outputs": [
    {
     "name": "stdout",
     "output_type": "stream",
     "text": [
      "DIV\n",
      "DIV\n"
     ]
    }
   ],
   "source": [
    "children_under_div = driver.execute_script(\"\"\"\n",
    "    const div = arguments[0];\n",
    "    const children = Array.from(div.children);\n",
    "    return children.map(child => child.tagName);  // Returns a list of tag names of all children\n",
    "\"\"\", div_inside_con_sales_bar)\n",
    "\n",
    "# Print the list of children tag names\n",
    "for html in children_under_div:\n",
    "    print(html)"
   ]
  },
  {
   "cell_type": "code",
   "execution_count": 72,
   "id": "c716a1c8",
   "metadata": {},
   "outputs": [],
   "source": [
    "second_div = driver.execute_script(\"\"\"\n",
    "    return arguments[0].children[1];\n",
    "\"\"\", div_inside_con_sales_bar)\n",
    "\n",
    "sales_footer = driver.execute_script(\"\"\"\n",
    "    return arguments[0].querySelector('div div div.sales-footer-sections');\n",
    "\"\"\", second_div)\n",
    "\n",
    "sales_footer"
   ]
  },
  {
   "cell_type": "code",
   "execution_count": 73,
   "metadata": {},
   "outputs": [
    {
     "name": "stdout",
     "output_type": "stream",
     "text": [
      "<!--?lit$1165044204$--><!--?lit$1165044204$--><!----><button class=\"button button-primary button-square\" data-modal-trigger=\"\" data-key=\"SAVE\" tooltip=\"\" title=\"Konfiguration speichern\"><!--?lit$1165044204$--><i aria-hidden=\"true\" class=\"button-icon con-icon icon-save\"></i></button><!----> <button class=\"button button-tertiary button-square   \" data-key=\"SALESBAR_OVERLAY\" aria-label=\"\"><i aria-hidden=\"true\" class=\"button-icon con-icon icon-chevron-up\"></i></button>\n"
     ]
    }
   ],
   "source": [
    "all_inner_html = driver.execute_script(\"\"\"\n",
    "    return arguments[0].innerHTML;\n",
    "\"\"\", second_div)\n",
    "\n",
    "print(all_inner_html)"
   ]
  },
  {
   "cell_type": "code",
   "execution_count": 75,
   "id": "7a25971a",
   "metadata": {},
   "outputs": [
    {
     "name": "stdout",
     "output_type": "stream",
     "text": [
      "DIV [compact-ctas-wrapper]\n",
      "  BUTTON [button button-primary button-square]\n",
      "    I [button-icon con-icon icon-save]\n",
      "  BUTTON [button button-tertiary button-square   ]\n",
      "    I [button-icon con-icon icon-chevron-up]\n"
     ]
    }
   ],
   "source": [
    "elements = driver.execute_script(\"\"\"\n",
    "    function getElementTree(element) {\n",
    "        let result = [];\n",
    "        function walk(el, depth) {\n",
    "            result.push('  '.repeat(depth) + el.tagName + (el.className ? ' [' + el.className + ']' : ''));\n",
    "            Array.from(el.children).forEach(child => walk(child, depth + 1));\n",
    "        }\n",
    "        walk(element, 0);\n",
    "        return result;\n",
    "    }\n",
    "    return getElementTree(arguments[0]);\n",
    "\"\"\", second_div)\n",
    "\n",
    "for line in elements:\n",
    "    print(line)\n"
   ]
  },
  {
   "cell_type": "code",
   "execution_count": null,
   "id": "22ebeaeb",
   "metadata": {},
   "outputs": [],
   "source": []
  },
  {
   "cell_type": "code",
   "execution_count": null,
   "id": "ec08d3c4",
   "metadata": {},
   "outputs": [],
   "source": []
  },
  {
   "cell_type": "code",
   "execution_count": null,
   "id": "b997f3fc",
   "metadata": {},
   "outputs": [],
   "source": []
  },
  {
   "cell_type": "code",
   "execution_count": null,
   "metadata": {},
   "outputs": [],
   "source": []
  },
  {
   "cell_type": "code",
   "execution_count": null,
   "metadata": {},
   "outputs": [],
   "source": []
  },
  {
   "cell_type": "code",
   "execution_count": null,
   "metadata": {},
   "outputs": [],
   "source": []
  },
  {
   "cell_type": "code",
   "execution_count": 58,
   "id": "c21a6b04",
   "metadata": {},
   "outputs": [
    {
     "name": "stdout",
     "output_type": "stream",
     "text": [
      "<div class=\"compact-ctas-wrapper\"><!--?lit$1165044204$--><!--?lit$1165044204$--><!----><button class=\"button button-primary button-square\" data-modal-trigger=\"\" data-key=\"SAVE\" tooltip=\"\" title=\"Konfiguration speichern\"><!--?lit$1165044204$--><i aria-hidden=\"true\" class=\"button-icon con-icon icon-save\"></i></button><!----> <button class=\"button button-tertiary button-square   \" data-key=\"SALESBAR_OVERLAY\" aria-label=\"\"><i aria-hidden=\"true\" class=\"button-icon con-icon icon-chevron-up\"></i></button></div>\n"
     ]
    }
   ],
   "source": [
    "second_div = driver.execute_script(\"\"\"\n",
    "    const div = arguments[0];\n",
    "    const children = Array.from(div.children);\n",
    "    return children[1];  // Access the second DIV element\n",
    "\"\"\", div_inside_con_sales_bar)\n",
    "\n",
    "# Print the outer HTML of the second DIV to verify\n",
    "print(second_div.get_attribute(\"outerHTML\"))\n"
   ]
  },
  {
   "cell_type": "code",
   "execution_count": 61,
   "metadata": {},
   "outputs": [
    {
     "name": "stdout",
     "output_type": "stream",
     "text": [
      "<button class=\"button button-primary button-square\" data-modal-trigger=\"\" data-key=\"SAVE\" tooltip=\"\" title=\"Konfiguration speichern\"><!--?lit$1165044204$--><i aria-hidden=\"true\" class=\"button-icon con-icon icon-save\"></i></button>\n",
      "<button class=\"button button-tertiary button-square   \" data-key=\"SALESBAR_OVERLAY\" aria-label=\"\"><i aria-hidden=\"true\" class=\"button-icon con-icon icon-chevron-up\"></i></button>\n"
     ]
    }
   ],
   "source": [
    "children_of_second_div = driver.execute_script(\"\"\"\n",
    "    const div = arguments[0];\n",
    "    const children = Array.from(div.children);\n",
    "    return children.map(child => child.outerHTML);  // Get outerHTML of all children\n",
    "\"\"\", second_div)\n",
    "\n",
    "# Print all children\n",
    "for child_html in children_of_second_div:\n",
    "    print(child_html)"
   ]
  },
  {
   "cell_type": "code",
   "execution_count": 62,
   "id": "0c746274",
   "metadata": {},
   "outputs": [
    {
     "name": "stdout",
     "output_type": "stream",
     "text": [
      "<button class=\"button button-primary button-square\" data-modal-trigger=\"\" data-key=\"SAVE\" tooltip=\"\" title=\"Konfiguration speichern\"><!--?lit$1165044204$--><i aria-hidden=\"true\" class=\"button-icon con-icon icon-save\"></i></button>\n",
      "<button class=\"button button-tertiary button-square   \" data-key=\"SALESBAR_OVERLAY\" aria-label=\"\"><i aria-hidden=\"true\" class=\"button-icon con-icon icon-chevron-up\"></i></button>\n"
     ]
    }
   ],
   "source": [
    "children_elements = driver.execute_script(\"\"\"\n",
    "    const parent = arguments[0];\n",
    "    return Array.from(parent.querySelectorAll(':scope > *')).map(el => el.outerHTML);\n",
    "\"\"\", second_div)\n",
    "\n",
    "for html in children_elements:\n",
    "    print(html)"
   ]
  },
  {
   "cell_type": "code",
   "execution_count": null,
   "id": "49d81326",
   "metadata": {},
   "outputs": [
    {
     "name": "stdout",
     "output_type": "stream",
     "text": [
      "<i aria-hidden=\"true\" class=\"button-icon con-icon icon-save\"></i>\n",
      "<i aria-hidden=\"true\" class=\"button-icon con-icon icon-chevron-up\"></i>\n"
     ]
    }
   ],
   "source": []
  },
  {
   "cell_type": "code",
   "execution_count": null,
   "id": "102075af",
   "metadata": {},
   "outputs": [],
   "source": []
  },
  {
   "cell_type": "code",
   "execution_count": null,
   "id": "083ce1c7",
   "metadata": {},
   "outputs": [],
   "source": []
  },
  {
   "cell_type": "code",
   "execution_count": null,
   "id": "f1ffaf41",
   "metadata": {},
   "outputs": [],
   "source": []
  },
  {
   "cell_type": "code",
   "execution_count": null,
   "id": "a0ade61b",
   "metadata": {},
   "outputs": [],
   "source": []
  },
  {
   "cell_type": "code",
   "execution_count": null,
   "metadata": {},
   "outputs": [],
   "source": []
  },
  {
   "cell_type": "code",
   "execution_count": null,
   "id": "94194f92",
   "metadata": {},
   "outputs": [],
   "source": []
  }
 ],
 "metadata": {
  "kernelspec": {
   "display_name": "scrapy",
   "language": "python",
   "name": "python3"
  },
  "language_info": {
   "codemirror_mode": {
    "name": "ipython",
    "version": 3
   },
   "file_extension": ".py",
   "mimetype": "text/x-python",
   "name": "python",
   "nbconvert_exporter": "python",
   "pygments_lexer": "ipython3",
   "version": "3.10.16"
  }
 },
 "nbformat": 4,
 "nbformat_minor": 5
}
